{
 "cells": [
  {
   "attachments": {},
   "cell_type": "markdown",
   "metadata": {},
   "source": [
    "## Análisis Exploratorio de Datos"
   ]
  },
  {
   "attachments": {},
   "cell_type": "markdown",
   "metadata": {},
   "source": [
    "Se importan las librerias necesarias."
   ]
  },
  {
   "cell_type": "code",
   "execution_count": 30,
   "metadata": {},
   "outputs": [],
   "source": [
    "import numpy as np\n",
    "import pandas as pd\n",
    "import matplotlib.pyplot as plt\n",
    "import seaborn as sns\n",
    "from ydata_profiling import ProfileReport\n",
    "%matplotlib inline\n",
    "sns.set()"
   ]
  },
  {
   "attachments": {},
   "cell_type": "markdown",
   "metadata": {},
   "source": [
    "Se procede a la carga los datasets"
   ]
  },
  {
   "cell_type": "code",
   "execution_count": 6,
   "metadata": {},
   "outputs": [],
   "source": [
    "df = pd.read_csv('Datasets/Plataformas.csv', delimiter=';')\n",
    "df_score = pd.read_csv('Datasets/score_movies.csv')"
   ]
  },
  {
   "attachments": {},
   "cell_type": "markdown",
   "metadata": {},
   "source": [
    "Se toma una muestra de los datasets, para un primer análisis de los datos."
   ]
  },
  {
   "cell_type": "code",
   "execution_count": 8,
   "metadata": {},
   "outputs": [
    {
     "data": {
      "text/html": [
       "<div>\n",
       "<style scoped>\n",
       "    .dataframe tbody tr th:only-of-type {\n",
       "        vertical-align: middle;\n",
       "    }\n",
       "\n",
       "    .dataframe tbody tr th {\n",
       "        vertical-align: top;\n",
       "    }\n",
       "\n",
       "    .dataframe thead th {\n",
       "        text-align: right;\n",
       "    }\n",
       "</style>\n",
       "<table border=\"1\" class=\"dataframe\">\n",
       "  <thead>\n",
       "    <tr style=\"text-align: right;\">\n",
       "      <th></th>\n",
       "      <th>id</th>\n",
       "      <th>plataform</th>\n",
       "      <th>type</th>\n",
       "      <th>title</th>\n",
       "      <th>director</th>\n",
       "      <th>cast</th>\n",
       "      <th>country</th>\n",
       "      <th>date_added</th>\n",
       "      <th>release_year</th>\n",
       "      <th>rating</th>\n",
       "      <th>duration</th>\n",
       "      <th>duration_int</th>\n",
       "      <th>duration_type</th>\n",
       "      <th>listed_in</th>\n",
       "      <th>description</th>\n",
       "    </tr>\n",
       "  </thead>\n",
       "  <tbody>\n",
       "    <tr>\n",
       "      <th>17045</th>\n",
       "      <td>ns2855</td>\n",
       "      <td>netflix</td>\n",
       "      <td>tv show</td>\n",
       "      <td>akame ga kill!</td>\n",
       "      <td>Sin_dato</td>\n",
       "      <td>sora amamiya, soma saito, yukari tamura, yuu a...</td>\n",
       "      <td>japan</td>\n",
       "      <td>2020-03-01</td>\n",
       "      <td>2014</td>\n",
       "      <td>tv-14</td>\n",
       "      <td>1 season</td>\n",
       "      <td>1</td>\n",
       "      <td>season</td>\n",
       "      <td>anime series, crime tv shows, international tv...</td>\n",
       "      <td>tatsumi sets out on a journey to help his poor...</td>\n",
       "    </tr>\n",
       "    <tr>\n",
       "      <th>9719</th>\n",
       "      <td>ds52</td>\n",
       "      <td>disney</td>\n",
       "      <td>tv show</td>\n",
       "      <td>disney amphibia</td>\n",
       "      <td>Sin_dato</td>\n",
       "      <td>justin felbinger, amanda leighton, bill farmer...</td>\n",
       "      <td>united states, south korea</td>\n",
       "      <td>2021-11-03</td>\n",
       "      <td>2018</td>\n",
       "      <td>tv-y7</td>\n",
       "      <td>3 seasons</td>\n",
       "      <td>3</td>\n",
       "      <td>season</td>\n",
       "      <td>animation, comedy, family</td>\n",
       "      <td>anne boonchuy is transported to the world of a...</td>\n",
       "    </tr>\n",
       "    <tr>\n",
       "      <th>7806</th>\n",
       "      <td>as7807</td>\n",
       "      <td>amazon</td>\n",
       "      <td>movie</td>\n",
       "      <td>into the fire</td>\n",
       "      <td>jane howell</td>\n",
       "      <td>donal mccann, sue johnston, sharon duce, david...</td>\n",
       "      <td>NaN</td>\n",
       "      <td>Sin_dato</td>\n",
       "      <td>1996</td>\n",
       "      <td>16+</td>\n",
       "      <td>119 min</td>\n",
       "      <td>119</td>\n",
       "      <td>min</td>\n",
       "      <td>drama</td>\n",
       "      <td>with his business in severe trouble, frank can...</td>\n",
       "    </tr>\n",
       "  </tbody>\n",
       "</table>\n",
       "</div>"
      ],
      "text/plain": [
       "           id plataform     type            title     director  \\\n",
       "17045  ns2855   netflix  tv show   akame ga kill!     Sin_dato   \n",
       "9719     ds52    disney  tv show  disney amphibia     Sin_dato   \n",
       "7806   as7807    amazon    movie    into the fire  jane howell   \n",
       "\n",
       "                                                    cast  \\\n",
       "17045  sora amamiya, soma saito, yukari tamura, yuu a...   \n",
       "9719   justin felbinger, amanda leighton, bill farmer...   \n",
       "7806   donal mccann, sue johnston, sharon duce, david...   \n",
       "\n",
       "                          country  date_added  release_year rating   duration  \\\n",
       "17045                       japan  2020-03-01          2014  tv-14   1 season   \n",
       "9719   united states, south korea  2021-11-03          2018  tv-y7  3 seasons   \n",
       "7806                          NaN    Sin_dato          1996    16+    119 min   \n",
       "\n",
       "       duration_int duration_type  \\\n",
       "17045             1        season   \n",
       "9719              3        season   \n",
       "7806            119           min   \n",
       "\n",
       "                                               listed_in  \\\n",
       "17045  anime series, crime tv shows, international tv...   \n",
       "9719                           animation, comedy, family   \n",
       "7806                                               drama   \n",
       "\n",
       "                                             description  \n",
       "17045  tatsumi sets out on a journey to help his poor...  \n",
       "9719   anne boonchuy is transported to the world of a...  \n",
       "7806   with his business in severe trouble, frank can...  "
      ]
     },
     "execution_count": 8,
     "metadata": {},
     "output_type": "execute_result"
    }
   ],
   "source": [
    "df.sample(3)"
   ]
  },
  {
   "cell_type": "code",
   "execution_count": 9,
   "metadata": {},
   "outputs": [
    {
     "data": {
      "text/html": [
       "<div>\n",
       "<style scoped>\n",
       "    .dataframe tbody tr th:only-of-type {\n",
       "        vertical-align: middle;\n",
       "    }\n",
       "\n",
       "    .dataframe tbody tr th {\n",
       "        vertical-align: top;\n",
       "    }\n",
       "\n",
       "    .dataframe thead th {\n",
       "        text-align: right;\n",
       "    }\n",
       "</style>\n",
       "<table border=\"1\" class=\"dataframe\">\n",
       "  <thead>\n",
       "    <tr style=\"text-align: right;\">\n",
       "      <th></th>\n",
       "      <th>userId</th>\n",
       "      <th>rating</th>\n",
       "      <th>timestamp</th>\n",
       "      <th>movieId</th>\n",
       "    </tr>\n",
       "  </thead>\n",
       "  <tbody>\n",
       "    <tr>\n",
       "      <th>9111418</th>\n",
       "      <td>266588</td>\n",
       "      <td>3.0</td>\n",
       "      <td>2000-03-08</td>\n",
       "      <td>ns3568</td>\n",
       "    </tr>\n",
       "    <tr>\n",
       "      <th>3040372</th>\n",
       "      <td>31773</td>\n",
       "      <td>4.5</td>\n",
       "      <td>2005-06-17</td>\n",
       "      <td>ns518</td>\n",
       "    </tr>\n",
       "    <tr>\n",
       "      <th>9859682</th>\n",
       "      <td>111914</td>\n",
       "      <td>3.5</td>\n",
       "      <td>2004-06-02</td>\n",
       "      <td>ns157</td>\n",
       "    </tr>\n",
       "  </tbody>\n",
       "</table>\n",
       "</div>"
      ],
      "text/plain": [
       "         userId  rating   timestamp movieId\n",
       "9111418  266588     3.0  2000-03-08  ns3568\n",
       "3040372   31773     4.5  2005-06-17   ns518\n",
       "9859682  111914     3.5  2004-06-02   ns157"
      ]
     },
     "execution_count": 9,
     "metadata": {},
     "output_type": "execute_result"
    }
   ],
   "source": [
    "df_score.sample(3)"
   ]
  },
  {
   "attachments": {},
   "cell_type": "markdown",
   "metadata": {},
   "source": [
    "Se evalúa la información del dataset, como Dtype y nulos."
   ]
  },
  {
   "cell_type": "code",
   "execution_count": 11,
   "metadata": {},
   "outputs": [
    {
     "name": "stdout",
     "output_type": "stream",
     "text": [
      "<class 'pandas.core.frame.DataFrame'>\n",
      "RangeIndex: 22998 entries, 0 to 22997\n",
      "Data columns (total 15 columns):\n",
      " #   Column         Non-Null Count  Dtype \n",
      "---  ------         --------------  ----- \n",
      " 0   id             22998 non-null  object\n",
      " 1   plataform      22998 non-null  object\n",
      " 2   type           22998 non-null  object\n",
      " 3   title          22998 non-null  object\n",
      " 4   director       22998 non-null  object\n",
      " 5   cast           22998 non-null  object\n",
      " 6   country        11499 non-null  object\n",
      " 7   date_added     22998 non-null  object\n",
      " 8   release_year   22998 non-null  int64 \n",
      " 9   rating         22998 non-null  object\n",
      " 10  duration       22811 non-null  object\n",
      " 11  duration_int   22998 non-null  int64 \n",
      " 12  duration_type  22811 non-null  object\n",
      " 13  listed_in      22998 non-null  object\n",
      " 14  description    22994 non-null  object\n",
      "dtypes: int64(2), object(13)\n",
      "memory usage: 2.6+ MB\n"
     ]
    }
   ],
   "source": [
    "df.info()"
   ]
  },
  {
   "cell_type": "code",
   "execution_count": 12,
   "metadata": {},
   "outputs": [
    {
     "name": "stdout",
     "output_type": "stream",
     "text": [
      "<class 'pandas.core.frame.DataFrame'>\n",
      "RangeIndex: 11024289 entries, 0 to 11024288\n",
      "Data columns (total 4 columns):\n",
      " #   Column     Dtype  \n",
      "---  ------     -----  \n",
      " 0   userId     int64  \n",
      " 1   rating     float64\n",
      " 2   timestamp  object \n",
      " 3   movieId    object \n",
      "dtypes: float64(1), int64(1), object(2)\n",
      "memory usage: 336.4+ MB\n"
     ]
    }
   ],
   "source": [
    "df_score.info()"
   ]
  },
  {
   "attachments": {},
   "cell_type": "markdown",
   "metadata": {},
   "source": [
    "Se busca la presencia de valores duplicados."
   ]
  },
  {
   "cell_type": "code",
   "execution_count": 16,
   "metadata": {},
   "outputs": [
    {
     "data": {
      "text/plain": [
       "False    22998\n",
       "dtype: int64"
      ]
     },
     "execution_count": 16,
     "metadata": {},
     "output_type": "execute_result"
    }
   ],
   "source": [
    "df.duplicated().value_counts()"
   ]
  },
  {
   "cell_type": "code",
   "execution_count": 14,
   "metadata": {},
   "outputs": [
    {
     "data": {
      "text/plain": [
       "False    11013823\n",
       "True        10466\n",
       "dtype: int64"
      ]
     },
     "execution_count": 14,
     "metadata": {},
     "output_type": "execute_result"
    }
   ],
   "source": [
    "df_score.duplicated().value_counts()"
   ]
  },
  {
   "attachments": {},
   "cell_type": "markdown",
   "metadata": {},
   "source": [
    "Utilizando Pandas profiling se procede al análisis de los datasets."
   ]
  },
  {
   "cell_type": "code",
   "execution_count": 17,
   "metadata": {},
   "outputs": [],
   "source": [
    "profile = ProfileReport(df, title=\"Pandas Profiling Report de las plataformas\")"
   ]
  },
  {
   "cell_type": "code",
   "execution_count": 19,
   "metadata": {},
   "outputs": [
    {
     "data": {
      "application/vnd.jupyter.widget-view+json": {
       "model_id": "62c685f3581c40389a99c2a7304fbc41",
       "version_major": 2,
       "version_minor": 0
      },
      "text/plain": [
       "Render widgets:   0%|          | 0/1 [00:00<?, ?it/s]"
      ]
     },
     "metadata": {},
     "output_type": "display_data"
    },
    {
     "data": {
      "application/vnd.jupyter.widget-view+json": {
       "model_id": "602f1587dc5742d7bfb0b04eaa29fde6",
       "version_major": 2,
       "version_minor": 0
      },
      "text/plain": [
       "VBox(children=(Tab(children=(Tab(children=(GridBox(children=(VBox(children=(GridspecLayout(children=(HTML(valu…"
      ]
     },
     "metadata": {},
     "output_type": "display_data"
    }
   ],
   "source": [
    "profile.to_widgets()"
   ]
  },
  {
   "cell_type": "code",
   "execution_count": 32,
   "metadata": {},
   "outputs": [
    {
     "data": {
      "application/vnd.jupyter.widget-view+json": {
       "model_id": "09cdcc62923d44789ca4bc819a320a0b",
       "version_major": 2,
       "version_minor": 0
      },
      "text/plain": [
       "Summarize dataset:   0%|          | 0/5 [00:00<?, ?it/s]"
      ]
     },
     "metadata": {},
     "output_type": "display_data"
    },
    {
     "name": "stderr",
     "output_type": "stream",
     "text": [
      "c:\\Users\\duque\\AppData\\Local\\Programs\\Python\\Python310\\lib\\site-packages\\ydata_profiling\\model\\pandas\\discretize_pandas.py:52: FutureWarning: In a future version, `df.iloc[:, i] = newvals` will attempt to set the values inplace instead of always setting a new array. To retain the old behavior, use either `df[df.columns[i]] = newvals` or, if columns are non-unique, `df.isetitem(i, newvals)`\n",
      "  discretized_df.loc[:, column] = self._discretize_column(\n"
     ]
    },
    {
     "data": {
      "application/vnd.jupyter.widget-view+json": {
       "model_id": "09733485a0b54672a08171fe7a796e87",
       "version_major": 2,
       "version_minor": 0
      },
      "text/plain": [
       "Generate report structure:   0%|          | 0/1 [00:02<?, ?it/s]"
      ]
     },
     "metadata": {},
     "output_type": "display_data"
    },
    {
     "data": {
      "application/vnd.jupyter.widget-view+json": {
       "model_id": "0d965e948c494cb9bdbb638b0a0116b2",
       "version_major": 2,
       "version_minor": 0
      },
      "text/plain": [
       "Render widgets:   0%|          | 0/1 [00:00<?, ?it/s]"
      ]
     },
     "metadata": {},
     "output_type": "display_data"
    },
    {
     "data": {
      "application/vnd.jupyter.widget-view+json": {
       "model_id": "f871837e11074823b34f05dbe0562eb7",
       "version_major": 2,
       "version_minor": 0
      },
      "text/plain": [
       "VBox(children=(Tab(children=(Tab(children=(GridBox(children=(VBox(children=(GridspecLayout(children=(HTML(valu…"
      ]
     },
     "metadata": {},
     "output_type": "display_data"
    }
   ],
   "source": [
    "profile = ProfileReport(df_score, title=\"Pandas Profiling Report del scored de los usuarios\")\n",
    "profile.to_widgets()"
   ]
  },
  {
   "attachments": {},
   "cell_type": "markdown",
   "metadata": {},
   "source": [
    "Como en la columna 'country' la mitad de los datos faltan y que además no aporta al posterior modelo, se procede a su eliminación."
   ]
  },
  {
   "cell_type": "code",
   "execution_count": 34,
   "metadata": {},
   "outputs": [],
   "source": [
    "df.drop(columns='country', inplace=True)"
   ]
  },
  {
   "attachments": {},
   "cell_type": "markdown",
   "metadata": {},
   "source": [
    "Al igual que en la columna anterior, se elimina la columna 'date_added'"
   ]
  },
  {
   "cell_type": "code",
   "execution_count": 35,
   "metadata": {},
   "outputs": [],
   "source": [
    "df.drop(columns='date_added', inplace=True)"
   ]
  },
  {
   "attachments": {},
   "cell_type": "markdown",
   "metadata": {},
   "source": [
    "Al haber una fuerte correlación entre las columnas 'type' y 'duration_type' se procede a la eliminación de una de ellas."
   ]
  },
  {
   "cell_type": "code",
   "execution_count": 36,
   "metadata": {},
   "outputs": [],
   "source": [
    "df.drop(columns='type', inplace=True)"
   ]
  },
  {
   "cell_type": "code",
   "execution_count": 21,
   "metadata": {},
   "outputs": [
    {
     "name": "stdout",
     "output_type": "stream",
     "text": [
      "Cantidad de nulos en duration_type con type = movie:  187\n",
      "Cantidad de nulos en duration_type con type = tv show:  0\n"
     ]
    }
   ],
   "source": [
    "dt_null_num = len(df[(df['duration_type'].isnull()) & (df['type'] == 'movie')])\n",
    "print(f'Cantidad de nulos en duration_type con type = movie: ', dt_null_num)\n",
    "dt_null_num = len(df[(df['duration_type'].isnull()) & (df['type'] == 'tv show')])\n",
    "print(f'Cantidad de nulos en duration_type con type = tv show: ', dt_null_num)"
   ]
  },
  {
   "attachments": {},
   "cell_type": "markdown",
   "metadata": {},
   "source": [
    "Como los registros faltantes en 'duration_type' corresponden al 'type' = movie, se asigna el valor 'min' al mismo."
   ]
  },
  {
   "cell_type": "code",
   "execution_count": 22,
   "metadata": {},
   "outputs": [],
   "source": [
    "df.fillna({'duration_type' : 'min'}, inplace=True)"
   ]
  },
  {
   "attachments": {},
   "cell_type": "markdown",
   "metadata": {},
   "source": [
    "Ante la presencia de valores duplicados en el dataset 'df_score', se procede a su eliminanción."
   ]
  },
  {
   "cell_type": "code",
   "execution_count": 33,
   "metadata": {},
   "outputs": [],
   "source": [
    "df_score.drop_duplicates(inplace=True)"
   ]
  },
  {
   "attachments": {},
   "cell_type": "markdown",
   "metadata": {},
   "source": [
    "Se elimina la columna 'timestamp', por no representar valor para el posterior análisis."
   ]
  },
  {
   "cell_type": "code",
   "execution_count": null,
   "metadata": {},
   "outputs": [],
   "source": [
    "df_score.drop(columns='timestamp', inplace=True)"
   ]
  },
  {
   "attachments": {},
   "cell_type": "markdown",
   "metadata": {},
   "source": [
    "Se visualiza cómo se distribuye la variable score.\n"
   ]
  },
  {
   "cell_type": "code",
   "execution_count": 31,
   "metadata": {},
   "outputs": [
    {
     "data": {
      "image/png": "[encoded data removed]",
      "text/plain": [
       "<Figure size 432x288 with 1 Axes>"
      ]
     },
     "metadata": {},
     "output_type": "display_data"
    }
   ],
   "source": [
    "sns.boxplot(x = 'rating', data = df_score)\n",
    "plt.show()"
   ]
  },
  {
   "cell_type": "code",
   "execution_count": 49,
   "metadata": {},
   "outputs": [],
   "source": [
    "df.to_csv('plataformas_EDA.csv', index=False)"
   ]
  },
  {
   "cell_type": "code",
   "execution_count": 50,
   "metadata": {},
   "outputs": [],
   "source": [
    "df_score.to_csv('score_movies_EDA.csv', index=False)"
   ]
  }
 ],
 "metadata": {
  "kernelspec": {
   "display_name": "Python 3",
   "language": "python",
   "name": "python3"
  },
  "language_info": {
   "codemirror_mode": {
    "name": "ipython",
    "version": 3
   },
   "file_extension": ".py",
   "mimetype": "text/x-python",
   "name": "python",
   "nbconvert_exporter": "python",
   "pygments_lexer": "ipython3",
   "version": "3.10.6"
  },
  "orig_nbformat": 4
 },
 "nbformat": 4,
 "nbformat_minor": 2
}
