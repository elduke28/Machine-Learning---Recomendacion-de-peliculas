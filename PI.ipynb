{
 "cells": [
  {
   "cell_type": "code",
   "execution_count": null,
   "metadata": {},
   "outputs": [],
   "source": []
  },
  {
   "attachments": {},
   "cell_type": "markdown",
   "metadata": {},
   "source": [
    "``` sql\n",
    "show variables like \"secure_file_priv\";  \n",
    "show variables like \"local_infile\";\n",
    "set global local_infile = 1;\n",
    "SET @@global.sql_mode= '';\n",
    "\n",
    "\n",
    "DROP TABLE IF EXISTS `amazon`;\n",
    "CREATE TABLE IF NOT EXISTS `amazon` (\n",
    "  `show_id` text,\n",
    "  `type` text,\n",
    "  `title` text,\n",
    "  `director` text,\n",
    "  `cast` text,\n",
    "  `country` text,\n",
    "  `date_added` text,\n",
    "  `release_year` int DEFAULT NULL,\n",
    "  `rating` text,\n",
    "  `duration` text,\n",
    "  `listed_in` text,\n",
    "  `description` text\n",
    ") ENGINE=InnoDB DEFAULT CHARSET=utf8mb4 COLLATE=utf8mb4_spanish_ci;\n",
    "LOAD DATA INFILE \"C:\\\\ProgramData\\\\MySQL\\\\MySQL Server 8.0\\\\Uploads\\\\MLOpsReviews\\\\amazon_prime_titles.csv\"\n",
    "INTO TABLE `amazon` \n",
    "FIELDS TERMINATED BY ',' ENCLOSED BY '\"' ESCAPED BY '' \n",
    "LINES TERMINATED BY '\\r\\n' IGNORE 1 LINES;\n",
    "\n",
    "DROP TABLE IF EXISTS `disney`;\n",
    "CREATE TABLE IF NOT EXISTS `disney` (\n",
    "  `show_id` text,\n",
    "  `type` text,\n",
    "  `title` text,\n",
    "  `director` text,\n",
    "  `cast` text,\n",
    "  `country` text,\n",
    "  `date_added` text,\n",
    "  `release_year` int DEFAULT NULL,\n",
    "  `rating` text,\n",
    "  `duration` text,\n",
    "  `listed_in` text,\n",
    "  `description` text\n",
    ") ENGINE=InnoDB DEFAULT CHARSET=utf8mb4 COLLATE=utf8mb4_spanish_ci;\n",
    "LOAD DATA INFILE \"C:\\\\ProgramData\\\\MySQL\\\\MySQL Server 8.0\\\\Uploads\\\\MLOpsReviews\\\\disney_plus_titles.csv\"\n",
    "INTO TABLE `disney` \n",
    "FIELDS TERMINATED BY ',' ENCLOSED BY '\"' ESCAPED BY '' \n",
    "LINES TERMINATED BY '\\r\\n' IGNORE 1 LINES;\n",
    "\n",
    "\n",
    "DROP TABLE IF EXISTS `hulu_s`;\n",
    "CREATE TABLE IF NOT EXISTS `hulu_s` (\n",
    "  `show_id` text,\n",
    "  `type` text,\n",
    "  `title` text,\n",
    "  `director` text,\n",
    "  `cast` text,\n",
    "  `country` text,\n",
    "  `date_added` text,\n",
    "  `release_year` int DEFAULT NULL,\n",
    "  `rating` text,\n",
    "  `duration` text,\n",
    "  `listed_in` text,\n",
    "  `description` text\n",
    ") ENGINE=InnoDB DEFAULT CHARSET=utf8mb4 COLLATE=utf8mb4_spanish_ci;\n",
    "LOAD DATA INFILE \"C:\\\\ProgramData\\\\MySQL\\\\MySQL Server 8.0\\\\Uploads\\\\MLOpsReviews\\\\hulu_titles.csv\"\n",
    "INTO TABLE `hulu_s` \n",
    "FIELDS TERMINATED BY ',' ENCLOSED BY '\"' ESCAPED BY '' \n",
    "LINES TERMINATED BY '\\r\\n' IGNORE 1 LINES;\n",
    "\n",
    "\n",
    "DROP TABLE IF EXISTS `netflix_s`;\n",
    "CREATE TABLE IF NOT EXISTS `netflix_s` (\n",
    "  `show_id` text,\n",
    "  `type` text,\n",
    "  `title` text,\n",
    "  `director` text,\n",
    "  `cast` text,\n",
    "  `country` text,\n",
    "  `date_added` text,\n",
    "  `release_year` int DEFAULT NULL,\n",
    "  `rating` text,\n",
    "  `duration` text,\n",
    "  `listed_in` text,\n",
    "  `description` text\n",
    ") ENGINE=InnoDB DEFAULT CHARSET=utf8mb4 COLLATE=utf8mb4_spanish_ci;\n",
    "LOAD DATA INFILE \"C:\\\\ProgramData\\\\MySQL\\\\MySQL Server 8.0\\\\Uploads\\\\MLOpsReviews\\\\netflix_titles.csv\"\n",
    "INTO TABLE `netflix_s` \n",
    "FIELDS TERMINATED BY ',' ENCLOSED BY '\"' ESCAPED BY '' \n",
    "LINES TERMINATED BY '\\r\\n' IGNORE 1 LINES;\n",
    "\n",
    "```"
   ]
  },
  {
   "attachments": {},
   "cell_type": "markdown",
   "metadata": {},
   "source": [
    "para modificar \n",
    "\n",
    "SELECT * FROM pi_ml_ops.amazon\n",
    "where show_id = 's9225';   -- modificar\n",
    "\n",
    "SELECT * FROM pi_ml_ops.hulu\n",
    "where show_id = 's2012';   -- modificar director\n",
    "\n",
    "SELECT * FROM pi_ml_ops.hulu\n",
    "where show_id = 's2076'; -- modificar director\n",
    "\n",
    "SELECT * FROM pi_ml_ops.hulu\n",
    "where show_id = 's2265';  -- modificar director\n",
    "\n",
    "\n",
    "hulu tiene datos vacios en duration, titile tiene datos raros\n",
    "\n",
    "netflix datos raros en title"
   ]
  },
  {
   "cell_type": "code",
   "execution_count": 120,
   "metadata": {},
   "outputs": [],
   "source": [
    "import pymysql.cursors\n",
    "connection = pymysql.connect(\n",
    "    host='localhost',\n",
    "    user='root',\n",
    "    password='',\n",
    "    db='pi_ml_ops',\n",
    "    cursorclass=pymysql.cursors.DictCursor\n",
    ")\n",
    "\n",
    "with connection.cursor() as cursor:\n",
    "        cursor.execute(\"select * from plataforma\")\n",
    "        Total_movies = cursor.fetchall() \n"
   ]
  },
  {
   "cell_type": "code",
   "execution_count": 122,
   "metadata": {},
   "outputs": [
    {
     "data": {
      "text/html": [
       "<div>\n",
       "<style scoped>\n",
       "    .dataframe tbody tr th:only-of-type {\n",
       "        vertical-align: middle;\n",
       "    }\n",
       "\n",
       "    .dataframe tbody tr th {\n",
       "        vertical-align: top;\n",
       "    }\n",
       "\n",
       "    .dataframe thead th {\n",
       "        text-align: right;\n",
       "    }\n",
       "</style>\n",
       "<table border=\"1\" class=\"dataframe\">\n",
       "  <thead>\n",
       "    <tr style=\"text-align: right;\">\n",
       "      <th></th>\n",
       "      <th>id</th>\n",
       "      <th>plataform</th>\n",
       "      <th>type</th>\n",
       "      <th>title</th>\n",
       "      <th>director</th>\n",
       "      <th>cast</th>\n",
       "      <th>country</th>\n",
       "      <th>date_added</th>\n",
       "      <th>release_year</th>\n",
       "      <th>rating</th>\n",
       "      <th>duration</th>\n",
       "      <th>duration_int</th>\n",
       "      <th>duration_type</th>\n",
       "      <th>listed_in</th>\n",
       "      <th>description</th>\n",
       "    </tr>\n",
       "  </thead>\n",
       "  <tbody>\n",
       "    <tr>\n",
       "      <th>0</th>\n",
       "      <td>as1</td>\n",
       "      <td>amazon</td>\n",
       "      <td>movie</td>\n",
       "      <td>the grand seduction</td>\n",
       "      <td>don mckellar</td>\n",
       "      <td>brendan gleeson, taylor kitsch, gordon pinsent</td>\n",
       "      <td>canada</td>\n",
       "      <td>2021-03-30</td>\n",
       "      <td>2014</td>\n",
       "      <td>g</td>\n",
       "      <td>113 min</td>\n",
       "      <td>113.0</td>\n",
       "      <td>min</td>\n",
       "      <td>comedy, drama</td>\n",
       "      <td>a small fishing village must procure a local d...</td>\n",
       "    </tr>\n",
       "    <tr>\n",
       "      <th>1</th>\n",
       "      <td>as2</td>\n",
       "      <td>amazon</td>\n",
       "      <td>movie</td>\n",
       "      <td>take care good night</td>\n",
       "      <td>girish joshi</td>\n",
       "      <td>mahesh manjrekar, abhay mahajan, sachin khedekar</td>\n",
       "      <td>india</td>\n",
       "      <td>2021-03-30</td>\n",
       "      <td>2018</td>\n",
       "      <td>13+</td>\n",
       "      <td>110 min</td>\n",
       "      <td>110.0</td>\n",
       "      <td>min</td>\n",
       "      <td>drama, international</td>\n",
       "      <td>a metro family decides to fight a cyber crimin...</td>\n",
       "    </tr>\n",
       "    <tr>\n",
       "      <th>2</th>\n",
       "      <td>as3</td>\n",
       "      <td>amazon</td>\n",
       "      <td>movie</td>\n",
       "      <td>secrets of deception</td>\n",
       "      <td>josh webber</td>\n",
       "      <td>tom sizemore, lorenzo lamas, robert lasardo, r...</td>\n",
       "      <td>united states</td>\n",
       "      <td>2021-03-30</td>\n",
       "      <td>2017</td>\n",
       "      <td>g</td>\n",
       "      <td>74 min</td>\n",
       "      <td>74.0</td>\n",
       "      <td>min</td>\n",
       "      <td>action, drama, suspense</td>\n",
       "      <td>after a man discovers his wife is cheating on ...</td>\n",
       "    </tr>\n",
       "    <tr>\n",
       "      <th>3</th>\n",
       "      <td>as4</td>\n",
       "      <td>amazon</td>\n",
       "      <td>movie</td>\n",
       "      <td>pink: staying true</td>\n",
       "      <td>sonia anderson</td>\n",
       "      <td>interviews with: pink, adele, beyoncé, britney...</td>\n",
       "      <td>united states</td>\n",
       "      <td>2021-03-30</td>\n",
       "      <td>2014</td>\n",
       "      <td>g</td>\n",
       "      <td>69 min</td>\n",
       "      <td>69.0</td>\n",
       "      <td>min</td>\n",
       "      <td>documentary</td>\n",
       "      <td>pink breaks the mold once again, bringing her ...</td>\n",
       "    </tr>\n",
       "    <tr>\n",
       "      <th>4</th>\n",
       "      <td>as5</td>\n",
       "      <td>amazon</td>\n",
       "      <td>movie</td>\n",
       "      <td>monster maker</td>\n",
       "      <td>giles foster</td>\n",
       "      <td>harry dean stanton, kieran o'brien, george cos...</td>\n",
       "      <td>united kingdom</td>\n",
       "      <td>2021-03-30</td>\n",
       "      <td>1989</td>\n",
       "      <td>g</td>\n",
       "      <td>45 min</td>\n",
       "      <td>45.0</td>\n",
       "      <td>min</td>\n",
       "      <td>drama, fantasy</td>\n",
       "      <td>teenage matt banting wants to work with a famo...</td>\n",
       "    </tr>\n",
       "  </tbody>\n",
       "</table>\n",
       "</div>"
      ],
      "text/plain": [
       "    id plataform   type                 title        director  \\\n",
       "0  as1    amazon  movie   the grand seduction    don mckellar   \n",
       "1  as2    amazon  movie  take care good night    girish joshi   \n",
       "2  as3    amazon  movie  secrets of deception     josh webber   \n",
       "3  as4    amazon  movie    pink: staying true  sonia anderson   \n",
       "4  as5    amazon  movie         monster maker    giles foster   \n",
       "\n",
       "                                                cast         country  \\\n",
       "0     brendan gleeson, taylor kitsch, gordon pinsent          canada   \n",
       "1   mahesh manjrekar, abhay mahajan, sachin khedekar           india   \n",
       "2  tom sizemore, lorenzo lamas, robert lasardo, r...   united states   \n",
       "3  interviews with: pink, adele, beyoncé, britney...   united states   \n",
       "4  harry dean stanton, kieran o'brien, george cos...  united kingdom   \n",
       "\n",
       "   date_added  release_year rating duration  duration_int duration_type  \\\n",
       "0  2021-03-30          2014      g  113 min         113.0           min   \n",
       "1  2021-03-30          2018    13+  110 min         110.0           min   \n",
       "2  2021-03-30          2017      g   74 min          74.0           min   \n",
       "3  2021-03-30          2014      g   69 min          69.0           min   \n",
       "4  2021-03-30          1989      g   45 min          45.0           min   \n",
       "\n",
       "                 listed_in                                        description  \n",
       "0            comedy, drama  a small fishing village must procure a local d...  \n",
       "1     drama, international  a metro family decides to fight a cyber crimin...  \n",
       "2  action, drama, suspense  after a man discovers his wife is cheating on ...  \n",
       "3              documentary  pink breaks the mold once again, bringing her ...  \n",
       "4           drama, fantasy  teenage matt banting wants to work with a famo...  "
      ]
     },
     "execution_count": 122,
     "metadata": {},
     "output_type": "execute_result"
    }
   ],
   "source": [
    "import pandas as pd\n",
    "\n",
    "df = pd.DataFrame(Total_movies)\n",
    "\n",
    "df.head()"
   ]
  },
  {
   "cell_type": "code",
   "execution_count": 86,
   "metadata": {},
   "outputs": [
    {
     "name": "stdout",
     "output_type": "stream",
     "text": [
      "<class 'pandas.core.frame.DataFrame'>\n",
      "RangeIndex: 22998 entries, 0 to 22997\n",
      "Data columns (total 15 columns):\n",
      " #   Column         Non-Null Count  Dtype  \n",
      "---  ------         --------------  -----  \n",
      " 0   id             22998 non-null  object \n",
      " 1   plataform      22998 non-null  object \n",
      " 2   type           22998 non-null  object \n",
      " 3   title          22998 non-null  object \n",
      " 4   director       22998 non-null  object \n",
      " 5   cast           22998 non-null  object \n",
      " 6   country        22998 non-null  object \n",
      " 7   date_added     22998 non-null  object \n",
      " 8   release_year   22998 non-null  int64  \n",
      " 9   rating         22998 non-null  object \n",
      " 10  duration       22998 non-null  object \n",
      " 11  duration_int   22811 non-null  float64\n",
      " 12  duration_type  22811 non-null  object \n",
      " 13  listed_in      22998 non-null  object \n",
      " 14  description    22998 non-null  object \n",
      "dtypes: float64(1), int64(1), object(13)\n",
      "memory usage: 2.6+ MB\n"
     ]
    }
   ],
   "source": [
    "df.info()"
   ]
  },
  {
   "cell_type": "code",
   "execution_count": 115,
   "metadata": {},
   "outputs": [],
   "source": [
    "def get_actor(platform,year):\n",
    "    actores, repeticiones = list(), list()  \n",
    "\n",
    "    Cast_list = list(df[(df.plataform == platform) & (df.release_year == year)].cast.fillna('Sin_dato'))\n",
    "    for each in Cast_list:  \n",
    "        if not(each == 'Sin_dato'):    \n",
    "            lista = each.split(\",\")\n",
    "            for elem in lista: \n",
    "                elem = elem.strip()\n",
    "                if elem in actores: \n",
    "                    repeticiones[actores.index(elem)] += 1\n",
    "                else:    \n",
    "                    actores.append(elem)\n",
    "                    repeticiones.append(1)\n",
    "    if actores == []: return f'Sin datos del año {year}' \n",
    "    return print(f'El actor que más se repite en la plataforma {platform}, en el año {year}, es {actores[repeticiones.index(max(repeticiones))].title()}, con un total de {max(repeticiones)} repeticiones')"
   ]
  },
  {
   "cell_type": "code",
   "execution_count": 119,
   "metadata": {},
   "outputs": [
    {
     "name": "stdout",
     "output_type": "stream",
     "text": [
      "El actor que más se repite en la plataforma amazon, en el año 2017, es Maggie Binkley, con un total de 16 repeticiones\n"
     ]
    }
   ],
   "source": [
    "get_actor('amazon',2017)"
   ]
  },
  {
   "cell_type": "code",
   "execution_count": 1,
   "metadata": {},
   "outputs": [],
   "source": [
    "import pandas as pd\n",
    "\n",
    "df = pd.read_csv('datasets\\plataformas.csv', delimiter=';')"
   ]
  },
  {
   "cell_type": "code",
   "execution_count": 2,
   "metadata": {},
   "outputs": [
    {
     "data": {
      "text/html": [
       "<div>\n",
       "<style scoped>\n",
       "    .dataframe tbody tr th:only-of-type {\n",
       "        vertical-align: middle;\n",
       "    }\n",
       "\n",
       "    .dataframe tbody tr th {\n",
       "        vertical-align: top;\n",
       "    }\n",
       "\n",
       "    .dataframe thead th {\n",
       "        text-align: right;\n",
       "    }\n",
       "</style>\n",
       "<table border=\"1\" class=\"dataframe\">\n",
       "  <thead>\n",
       "    <tr style=\"text-align: right;\">\n",
       "      <th></th>\n",
       "      <th>id</th>\n",
       "      <th>plataform</th>\n",
       "      <th>type</th>\n",
       "      <th>title</th>\n",
       "      <th>director</th>\n",
       "      <th>cast</th>\n",
       "      <th>country</th>\n",
       "      <th>date_added</th>\n",
       "      <th>release_year</th>\n",
       "      <th>rating</th>\n",
       "      <th>duration</th>\n",
       "      <th>duration_int</th>\n",
       "      <th>duration_type</th>\n",
       "      <th>listed_in</th>\n",
       "      <th>description</th>\n",
       "    </tr>\n",
       "  </thead>\n",
       "  <tbody>\n",
       "    <tr>\n",
       "      <th>0</th>\n",
       "      <td>as1</td>\n",
       "      <td>amazon</td>\n",
       "      <td>movie</td>\n",
       "      <td>the grand seduction</td>\n",
       "      <td>don mckellar</td>\n",
       "      <td>brendan gleeson, taylor kitsch, gordon pinsent</td>\n",
       "      <td>canada</td>\n",
       "      <td>2021-03-30</td>\n",
       "      <td>2014</td>\n",
       "      <td>g</td>\n",
       "      <td>113 min</td>\n",
       "      <td>113</td>\n",
       "      <td>min</td>\n",
       "      <td>comedy, drama</td>\n",
       "      <td>a small fishing village must procure a local d...</td>\n",
       "    </tr>\n",
       "  </tbody>\n",
       "</table>\n",
       "</div>"
      ],
      "text/plain": [
       "    id plataform   type                title      director  \\\n",
       "0  as1    amazon  movie  the grand seduction  don mckellar   \n",
       "\n",
       "                                             cast country  date_added  \\\n",
       "0  brendan gleeson, taylor kitsch, gordon pinsent  canada  2021-03-30   \n",
       "\n",
       "   release_year rating duration  duration_int duration_type      listed_in  \\\n",
       "0          2014      g  113 min           113           min  comedy, drama   \n",
       "\n",
       "                                         description  \n",
       "0  a small fishing village must procure a local d...  "
      ]
     },
     "execution_count": 2,
     "metadata": {},
     "output_type": "execute_result"
    }
   ],
   "source": [
    "df.head(1)"
   ]
  },
  {
   "cell_type": "code",
   "execution_count": 12,
   "metadata": {},
   "outputs": [
    {
     "data": {
      "text/plain": [
       "0    9668\n",
       "Name: COUNT(title), dtype: int64"
      ]
     },
     "execution_count": 12,
     "metadata": {},
     "output_type": "execute_result"
    }
   ],
   "source": [
    "from pandasql import sqldf\n",
    "\n",
    "query = \"SELECT COUNT(title) FROM df WHERE plataform = 'amazon'\"\n",
    "result = sqldf(query)\n",
    "\n",
    "result['COUNT(title)']\n"
   ]
  },
  {
   "cell_type": "code",
   "execution_count": 18,
   "metadata": {},
   "outputs": [
    {
     "ename": "AttributeError",
     "evalue": "'Series' object has no attribute 'title'",
     "output_type": "error",
     "traceback": [
      "\u001b[1;31m---------------------------------------------------------------------------\u001b[0m",
      "\u001b[1;31mAttributeError\u001b[0m                            Traceback (most recent call last)",
      "\u001b[1;32md:\\Programacion\\HENRY DATA\\Poyecto individual\\PI_ML_OPS\\PI.ipynb Celda 12\u001b[0m in \u001b[0;36m<cell line: 4>\u001b[1;34m()\u001b[0m\n\u001b[0;32m      <a href='vscode-notebook-cell:/d%3A/Programacion/HENRY%20DATA/Poyecto%20individual/PI_ML_OPS/PI.ipynb#X14sZmlsZQ%3D%3D?line=0'>1</a>\u001b[0m query \u001b[39m=\u001b[39m \u001b[39m'''\u001b[39m\u001b[39mSELECT * FROM df where release_year=(2010) and plataform=(\u001b[39m\u001b[39m'\u001b[39m\u001b[39mnetflix\u001b[39m\u001b[39m'\u001b[39m\u001b[39m) and duration_type=(\u001b[39m\u001b[39m'\u001b[39m\u001b[39mmin\u001b[39m\u001b[39m'\u001b[39m\u001b[39m) \u001b[39m\n\u001b[0;32m      <a href='vscode-notebook-cell:/d%3A/Programacion/HENRY%20DATA/Poyecto%20individual/PI_ML_OPS/PI.ipynb#X14sZmlsZQ%3D%3D?line=1'>2</a>\u001b[0m \u001b[39m                        order by duration_int desc limit 1\u001b[39m\u001b[39m'''\u001b[39m\n\u001b[0;32m      <a href='vscode-notebook-cell:/d%3A/Programacion/HENRY%20DATA/Poyecto%20individual/PI_ML_OPS/PI.ipynb#X14sZmlsZQ%3D%3D?line=2'>3</a>\u001b[0m Max_duration \u001b[39m=\u001b[39m sqldf(query)\n\u001b[1;32m----> <a href='vscode-notebook-cell:/d%3A/Programacion/HENRY%20DATA/Poyecto%20individual/PI_ML_OPS/PI.ipynb#X14sZmlsZQ%3D%3D?line=3'>4</a>\u001b[0m Max_duration\u001b[39m.\u001b[39;49mtitle\u001b[39m.\u001b[39;49mtitle()\n",
      "File \u001b[1;32mc:\\Users\\duque\\AppData\\Local\\Programs\\Python\\Python310\\lib\\site-packages\\pandas\\core\\generic.py:5907\u001b[0m, in \u001b[0;36mNDFrame.__getattr__\u001b[1;34m(self, name)\u001b[0m\n\u001b[0;32m   5900\u001b[0m \u001b[39mif\u001b[39;00m (\n\u001b[0;32m   5901\u001b[0m     name \u001b[39mnot\u001b[39;00m \u001b[39min\u001b[39;00m \u001b[39mself\u001b[39m\u001b[39m.\u001b[39m_internal_names_set\n\u001b[0;32m   5902\u001b[0m     \u001b[39mand\u001b[39;00m name \u001b[39mnot\u001b[39;00m \u001b[39min\u001b[39;00m \u001b[39mself\u001b[39m\u001b[39m.\u001b[39m_metadata\n\u001b[0;32m   5903\u001b[0m     \u001b[39mand\u001b[39;00m name \u001b[39mnot\u001b[39;00m \u001b[39min\u001b[39;00m \u001b[39mself\u001b[39m\u001b[39m.\u001b[39m_accessors\n\u001b[0;32m   5904\u001b[0m     \u001b[39mand\u001b[39;00m \u001b[39mself\u001b[39m\u001b[39m.\u001b[39m_info_axis\u001b[39m.\u001b[39m_can_hold_identifiers_and_holds_name(name)\n\u001b[0;32m   5905\u001b[0m ):\n\u001b[0;32m   5906\u001b[0m     \u001b[39mreturn\u001b[39;00m \u001b[39mself\u001b[39m[name]\n\u001b[1;32m-> 5907\u001b[0m \u001b[39mreturn\u001b[39;00m \u001b[39mobject\u001b[39;49m\u001b[39m.\u001b[39;49m\u001b[39m__getattribute__\u001b[39;49m(\u001b[39mself\u001b[39;49m, name)\n",
      "\u001b[1;31mAttributeError\u001b[0m: 'Series' object has no attribute 'title'"
     ]
    }
   ],
   "source": [
    "query = '''SELECT * FROM df where release_year=(2010) and plataform=('netflix') and duration_type=('min') \n",
    "                        order by duration_int desc limit 1'''\n",
    "Max_duration = sqldf(query)\n",
    "Max_duration.title.title()"
   ]
  },
  {
   "cell_type": "code",
   "execution_count": 11,
   "metadata": {},
   "outputs": [
    {
     "name": "stdout",
     "output_type": "stream",
     "text": [
      "186 min\n"
     ]
    }
   ],
   "source": [
    "max_duration = df[(df.plataform == 'netflix') & (df.release_year == 2010) & ((df.duration_type == 'min') )]\n",
    "# Verificacion de año\n",
    "# Retornamos el valor del título\n",
    "id_max = max_duration.duration_int.idxmax()\n",
    "print((max_duration.loc[id_max].duration))"
   ]
  },
  {
   "cell_type": "code",
   "execution_count": 15,
   "metadata": {},
   "outputs": [],
   "source": [
    "df_score = pd.read_csv('Datasets/score_users.csv')"
   ]
  },
  {
   "cell_type": "code",
   "execution_count": 16,
   "metadata": {},
   "outputs": [
    {
     "data": {
      "text/html": [
       "<div>\n",
       "<style scoped>\n",
       "    .dataframe tbody tr th:only-of-type {\n",
       "        vertical-align: middle;\n",
       "    }\n",
       "\n",
       "    .dataframe tbody tr th {\n",
       "        vertical-align: top;\n",
       "    }\n",
       "\n",
       "    .dataframe thead th {\n",
       "        text-align: right;\n",
       "    }\n",
       "</style>\n",
       "<table border=\"1\" class=\"dataframe\">\n",
       "  <thead>\n",
       "    <tr style=\"text-align: right;\">\n",
       "      <th></th>\n",
       "      <th>id</th>\n",
       "      <th>score</th>\n",
       "    </tr>\n",
       "  </thead>\n",
       "  <tbody>\n",
       "    <tr>\n",
       "      <th>0</th>\n",
       "      <td>as1</td>\n",
       "      <td>89.20319</td>\n",
       "    </tr>\n",
       "    <tr>\n",
       "      <th>1</th>\n",
       "      <td>as10</td>\n",
       "      <td>89.53216</td>\n",
       "    </tr>\n",
       "    <tr>\n",
       "      <th>2</th>\n",
       "      <td>as100</td>\n",
       "      <td>89.25581</td>\n",
       "    </tr>\n",
       "    <tr>\n",
       "      <th>3</th>\n",
       "      <td>as1000</td>\n",
       "      <td>89.50515</td>\n",
       "    </tr>\n",
       "    <tr>\n",
       "      <th>4</th>\n",
       "      <td>as1001</td>\n",
       "      <td>89.82942</td>\n",
       "    </tr>\n",
       "  </tbody>\n",
       "</table>\n",
       "</div>"
      ],
      "text/plain": [
       "       id     score\n",
       "0     as1  89.20319\n",
       "1    as10  89.53216\n",
       "2   as100  89.25581\n",
       "3  as1000  89.50515\n",
       "4  as1001  89.82942"
      ]
     },
     "execution_count": 16,
     "metadata": {},
     "output_type": "execute_result"
    }
   ],
   "source": [
    "df_score.head()"
   ]
  },
  {
   "cell_type": "code",
   "execution_count": 18,
   "metadata": {},
   "outputs": [],
   "source": [
    "df_add_score = pd.merge(df, df_score, how='inner', on = 'id')"
   ]
  },
  {
   "cell_type": "code",
   "execution_count": 27,
   "metadata": {},
   "outputs": [
    {
     "data": {
      "text/plain": [
       "numpy.int64"
      ]
     },
     "execution_count": 27,
     "metadata": {},
     "output_type": "execute_result"
    }
   ],
   "source": [
    "score_count = df_add_score[(df_add_score.plataform == 'netflix') & (df_add_score.release_year == 2010) & ((df_add_score.score > 89) )]\n",
    "type(score_count.id.count())\n",
    "    "
   ]
  },
  {
   "cell_type": "code",
   "execution_count": 5,
   "metadata": {},
   "outputs": [],
   "source": [
    "import pandas as pd\n",
    "\n",
    "df = pd.read_csv('C:/Users/duque/Downloads/score_movies.csv')"
   ]
  },
  {
   "cell_type": "code",
   "execution_count": 6,
   "metadata": {},
   "outputs": [
    {
     "data": {
      "text/plain": [
       "(11013823, 4)"
      ]
     },
     "execution_count": 6,
     "metadata": {},
     "output_type": "execute_result"
    }
   ],
   "source": [
    "df.shape"
   ]
  },
  {
   "attachments": {},
   "cell_type": "markdown",
   "metadata": {},
   "source": [
    "Cargo los csv necesarios y los unifico"
   ]
  },
  {
   "cell_type": "code",
   "execution_count": 7,
   "metadata": {},
   "outputs": [],
   "source": [
    "df_rating_1 = pd.read_csv('./MLOpsReviews/ratings/1.csv')\n",
    "df_rating_2 = pd.read_csv('./MLOpsReviews/ratings/2.csv')\n",
    "df_rating_3 = pd.read_csv('./MLOpsReviews/ratings/3.csv')\n",
    "df_rating_4 = pd.read_csv('./MLOpsReviews/ratings/4.csv')\n",
    "df_rating_5 = pd.read_csv('./MLOpsReviews/ratings/5.csv')\n",
    "df_rating_6 = pd.read_csv('./MLOpsReviews/ratings/6.csv')\n",
    "df_rating_7 = pd.read_csv('./MLOpsReviews/ratings/7.csv')\n",
    "df_rating_8 = pd.read_csv('./MLOpsReviews/ratings/8.csv')"
   ]
  },
  {
   "cell_type": "code",
   "execution_count": 8,
   "metadata": {},
   "outputs": [],
   "source": [
    "df_rating = pd.concat([df_rating_1, df_rating_2, df_rating_3, df_rating_4, df_rating_5, df_rating_6, df_rating_7, df_rating_8])"
   ]
  },
  {
   "cell_type": "code",
   "execution_count": 9,
   "metadata": {},
   "outputs": [
    {
     "data": {
      "text/plain": [
       "(11024289, 4)"
      ]
     },
     "execution_count": 9,
     "metadata": {},
     "output_type": "execute_result"
    }
   ],
   "source": [
    "df_rating.shape"
   ]
  },
  {
   "cell_type": "code",
   "execution_count": 10,
   "metadata": {},
   "outputs": [
    {
     "name": "stdout",
     "output_type": "stream",
     "text": [
      "<class 'pandas.core.frame.DataFrame'>\n",
      "Int64Index: 11024289 entries, 0 to 1499999\n",
      "Data columns (total 4 columns):\n",
      " #   Column     Dtype  \n",
      "---  ------     -----  \n",
      " 0   userId     int64  \n",
      " 1   rating     float64\n",
      " 2   timestamp  int64  \n",
      " 3   movieId    object \n",
      "dtypes: float64(1), int64(2), object(1)\n",
      "memory usage: 420.5+ MB\n"
     ]
    }
   ],
   "source": [
    "df_rating.info()"
   ]
  },
  {
   "cell_type": "code",
   "execution_count": 11,
   "metadata": {},
   "outputs": [],
   "source": [
    "df_rating['timestamp'] = pd.to_datetime(df_rating['timestamp'], unit='s').dt.strftime('%B %d, %Y')"
   ]
  },
  {
   "cell_type": "code",
   "execution_count": 12,
   "metadata": {},
   "outputs": [],
   "source": [
    "df_rating['timestamp'] = pd.to_datetime(df_rating['timestamp'])"
   ]
  },
  {
   "cell_type": "code",
   "execution_count": 19,
   "metadata": {},
   "outputs": [
    {
     "data": {
      "text/html": [
       "<div>\n",
       "<style scoped>\n",
       "    .dataframe tbody tr th:only-of-type {\n",
       "        vertical-align: middle;\n",
       "    }\n",
       "\n",
       "    .dataframe tbody tr th {\n",
       "        vertical-align: top;\n",
       "    }\n",
       "\n",
       "    .dataframe thead th {\n",
       "        text-align: right;\n",
       "    }\n",
       "</style>\n",
       "<table border=\"1\" class=\"dataframe\">\n",
       "  <thead>\n",
       "    <tr style=\"text-align: right;\">\n",
       "      <th></th>\n",
       "      <th>userId</th>\n",
       "      <th>rating</th>\n",
       "      <th>timestamp</th>\n",
       "      <th>movieId</th>\n",
       "    </tr>\n",
       "  </thead>\n",
       "  <tbody>\n",
       "    <tr>\n",
       "      <th>0</th>\n",
       "      <td>1</td>\n",
       "      <td>1.0</td>\n",
       "      <td>2015-03-09</td>\n",
       "      <td>as680</td>\n",
       "    </tr>\n",
       "    <tr>\n",
       "      <th>1</th>\n",
       "      <td>1</td>\n",
       "      <td>4.5</td>\n",
       "      <td>2015-03-09</td>\n",
       "      <td>ns2186</td>\n",
       "    </tr>\n",
       "    <tr>\n",
       "      <th>2</th>\n",
       "      <td>1</td>\n",
       "      <td>5.0</td>\n",
       "      <td>2015-03-09</td>\n",
       "      <td>hs2381</td>\n",
       "    </tr>\n",
       "    <tr>\n",
       "      <th>3</th>\n",
       "      <td>1</td>\n",
       "      <td>5.0</td>\n",
       "      <td>2015-03-09</td>\n",
       "      <td>ns3663</td>\n",
       "    </tr>\n",
       "    <tr>\n",
       "      <th>4</th>\n",
       "      <td>1</td>\n",
       "      <td>5.0</td>\n",
       "      <td>2015-03-09</td>\n",
       "      <td>as9500</td>\n",
       "    </tr>\n",
       "  </tbody>\n",
       "</table>\n",
       "</div>"
      ],
      "text/plain": [
       "   userId  rating  timestamp movieId\n",
       "0       1     1.0 2015-03-09   as680\n",
       "1       1     4.5 2015-03-09  ns2186\n",
       "2       1     5.0 2015-03-09  hs2381\n",
       "3       1     5.0 2015-03-09  ns3663\n",
       "4       1     5.0 2015-03-09  as9500"
      ]
     },
     "execution_count": 19,
     "metadata": {},
     "output_type": "execute_result"
    }
   ],
   "source": [
    "df_rating.head()"
   ]
  },
  {
   "cell_type": "code",
   "execution_count": 20,
   "metadata": {},
   "outputs": [
    {
     "data": {
      "text/plain": [
       "(11024289, 4)"
      ]
     },
     "execution_count": 20,
     "metadata": {},
     "output_type": "execute_result"
    }
   ],
   "source": [
    "df_rating.shape"
   ]
  },
  {
   "cell_type": "code",
   "execution_count": 21,
   "metadata": {},
   "outputs": [],
   "source": [
    "df_rating.to_csv('score_movies.csv', index=False)"
   ]
  },
  {
   "cell_type": "code",
   "execution_count": 22,
   "metadata": {},
   "outputs": [],
   "source": [
    "df_score_prom = df_rating.groupby('movieId')['rating'].mean()\n",
    "df_score_prom.to_csv('score_prom_movies.csv')"
   ]
  },
  {
   "cell_type": "code",
   "execution_count": 23,
   "metadata": {},
   "outputs": [
    {
     "data": {
      "text/plain": [
       "movieId\n",
       "as1       3.467131\n",
       "as10      3.439571\n",
       "as100     3.609302\n",
       "as1000    3.556701\n",
       "as1001    3.585288\n",
       "Name: rating, dtype: float64"
      ]
     },
     "execution_count": 23,
     "metadata": {},
     "output_type": "execute_result"
    }
   ],
   "source": [
    "df_score_prom.head()"
   ]
  }
 ],
 "metadata": {
  "kernelspec": {
   "display_name": "Python 3",
   "language": "python",
   "name": "python3"
  },
  "language_info": {
   "codemirror_mode": {
    "name": "ipython",
    "version": 3
   },
   "file_extension": ".py",
   "mimetype": "text/x-python",
   "name": "python",
   "nbconvert_exporter": "python",
   "pygments_lexer": "ipython3",
   "version": "3.10.6"
  },
  "orig_nbformat": 4
 },
 "nbformat": 4,
 "nbformat_minor": 2
}
